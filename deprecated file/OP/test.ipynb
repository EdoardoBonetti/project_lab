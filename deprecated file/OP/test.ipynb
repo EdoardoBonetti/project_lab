{
 "cells": [
  {
   "cell_type": "code",
   "execution_count": 1,
   "metadata": {},
   "outputs": [],
   "source": [
    "#import numpy as np\n",
    "#import matplotlib.pyplot as plt\n",
    "#from mpl_toolkits.mplot3d import Axes3D\n",
    "#\n",
    "#%matplotlib widget"
   ]
  },
  {
   "cell_type": "code",
   "execution_count": null,
   "metadata": {},
   "outputs": [],
   "source": []
  },
  {
   "cell_type": "code",
   "execution_count": 2,
   "metadata": {},
   "outputs": [],
   "source": [
    "%matplotlib widget\n",
    "\n",
    "import matplotlib.pyplot as plt\n",
    "\n",
    "from plotly.subplots import make_subplots\n",
    "import numpy as np\n",
    "import plotly.graph_objs as go\n",
    "\n",
    "import copy\n",
    "\n",
    "import pandas as pd\n",
    "from ipywidgets import interact  , FloatRangeSlider , IntRangeSlider\n",
    "from ipywidgets import FloatSlider , fixed , BoundedIntText , BoundedFloatText\n",
    "from scipy.signal import savgol_filter\n",
    "from scipy import sparse\n",
    "from scipy.sparse.linalg import spsolve\n",
    "from os import listdir\n",
    "\n",
    "\n",
    "\n",
    "\n",
    "def baseline_als(y, lam, p, niter):\n",
    "    \"\"\"Asymmetric Least Squares to find the baseline\"\"\"\n",
    "    L = len(y)\n",
    "    D = sparse.diags([1, -2, 1], [0, -1, -2], shape=(L, L-2))\n",
    "    w = np.ones(L)\n",
    "    for i in range(niter):\n",
    "        W = sparse.spdiags(w, 0, L, L)\n",
    "        Z = W + lam * D.dot(D.transpose())\n",
    "        z = spsolve(Z, w*y)\n",
    "        w = p * (y > z) + (1-p) * (y < z)\n",
    "    return z\n",
    "\n",
    "def timer(func):\n",
    "    def wrapper(*args, **kwargs):\n",
    "        import time\n",
    "        start = time.time()\n",
    "        result = func(*args, **kwargs)\n",
    "        end = time.time()\n",
    "        print(func.__name__ + ' took ' + str(end - start) + ' seconds')\n",
    "        return result\n",
    "    return wrapper\n",
    "\n",
    "@timer\n",
    "def interactive_plot(dfs, cut , filter , lam, p , niter):\n",
    "\n",
    "    # create a save button from ipywidgets that saves tha data\n",
    "\n",
    "    \n",
    "\n",
    "\n",
    "    \n",
    "    fig, (ax1, ax2) = plt.subplots(1, 2)\n",
    "\n",
    "    # figsize = (10, 5)\n",
    "    fig.set_figwidth(10)\n",
    "    fig.set_figheight(5)\n",
    "\n",
    "    fig.suptitle('A tale of 2 subplots')\n",
    "\n",
    "\n",
    "\n",
    "\n",
    "    # from name read the file\n",
    "    for df in dfs:\n",
    "\n",
    "        begin = cut[0]\n",
    "        end = cut[1]\n",
    "\n",
    "        df = df[df['Temperature'] > begin]\n",
    "        df = df[df['Temperature'] < end]\n",
    "\n",
    "        polyorder = filter[0]\n",
    "        window_length = filter[1]   \n",
    "\n",
    "        svflt = savgol_filter(df[\"Heat Flux\"], window_length, polyorder)\n",
    "        baseline = baseline_als(df[\"Heat Flux\"], lam, p, niter)\n",
    "\n",
    "        ax1.plot(df['Temperature'],df['Heat Flux'], color = 'C0', linewidth = 0.5)\n",
    "        ax1.plot(df['Temperature'],baseline, color = 'C1' , linewidth = 0.5)\n",
    "        ax2.plot(df['Temperature'],svflt-baseline, color = 'C0', linewidth = 0.5)\n",
    "    \n",
    "    ax1.set_title('Heat Flux')\n",
    "    ax2.set_title('filtered Heat Flux')\n",
    "\n",
    "    # adjust the dimension of the plot\n",
    "    plt.tight_layout()\n",
    "    plt.show()\n",
    "        # clear the plot\n",
    "   \n",
    "\n",
    "cut = FloatRangeSlider(\n",
    "    value=[25, 85],\n",
    "    min=0,\n",
    "    max=100.0,\n",
    "    step=0.1,\n",
    "    description='Range of Temperature:',\n",
    "    disabled=False,\n",
    "    continuous_update=False,\n",
    "    orientation='horizontal',\n",
    "    readout=True,\n",
    "    readout_format='.1f',\n",
    ")\n",
    "\n",
    "filer = IntRangeSlider(\n",
    "    value = [1, 50],\n",
    "    min = 1,\n",
    "    max = 100,\n",
    "    step = 1,\n",
    "    description = 'poly-wind for filter',\n",
    "    disabled = False,\n",
    "    continuous_update = False,\n",
    "    orientation = 'horizontal',\n",
    "    readout = True,\n",
    "    readout_format = 'd')\n",
    "\n",
    "# lam , p , niter are values not sliders\n",
    "\n",
    "lam = BoundedFloatText(\n",
    "    value=10**8,\n",
    "    min=10,\n",
    "    max=10**13,\n",
    "    step=10**8,\n",
    "    description='Lambda:',\n",
    "    disabled=False\n",
    ")\n",
    "\n",
    "p = BoundedFloatText(\n",
    "    value=0.99,\n",
    "    min=0.01,\n",
    "    max=0.99,\n",
    "    step=0.01,\n",
    "    description='p:',\n",
    "    disabled=False\n",
    ")\n",
    "\n",
    "niter = BoundedIntText(\n",
    "    value=100,\n",
    "    min=1,\n",
    "    max=1000,\n",
    "    step=1,\n",
    "    description='niter:',\n",
    "    disabled=False,\n",
    "    # independant at every call\n",
    ")\n",
    "\n",
    "# \n",
    "\n"
   ]
  },
  {
   "cell_type": "code",
   "execution_count": 7,
   "metadata": {},
   "outputs": [
    {
     "name": "stdout",
     "output_type": "stream",
     "text": [
      "4perc\n"
     ]
    },
    {
     "ename": "NotImplementedError",
     "evalue": "Widgets cannot be copied; custom implementation required",
     "output_type": "error",
     "traceback": [
      "\u001b[0;31m---------------------------------------------------------------------------\u001b[0m",
      "\u001b[0;31mNotImplementedError\u001b[0m                       Traceback (most recent call last)",
      "Cell \u001b[0;32mIn[7], line 13\u001b[0m\n\u001b[1;32m      9\u001b[0m     df \u001b[38;5;241m=\u001b[39m df\u001b[38;5;241m.\u001b[39mgroupby(\u001b[38;5;124m'\u001b[39m\u001b[38;5;124mTemperature\u001b[39m\u001b[38;5;124m'\u001b[39m)\u001b[38;5;241m.\u001b[39mmean()\u001b[38;5;241m.\u001b[39mreset_index()\n\u001b[1;32m     10\u001b[0m     dfs\u001b[38;5;241m.\u001b[39mappend(df)\n\u001b[0;32m---> 13\u001b[0m interact(interactive_plot, dfs\u001b[38;5;241m=\u001b[39mfixed(dfs), cut\u001b[38;5;241m=\u001b[39m\u001b[43mcopy\u001b[49m\u001b[38;5;241;43m.\u001b[39;49m\u001b[43mcopy\u001b[49m\u001b[43m(\u001b[49m\u001b[43mcut\u001b[49m\u001b[43m)\u001b[49m , \u001b[38;5;28mfilter\u001b[39m \u001b[38;5;241m=\u001b[39m filer , lam \u001b[38;5;241m=\u001b[39m lam , p \u001b[38;5;241m=\u001b[39m p , niter \u001b[38;5;241m=\u001b[39m niter)\n",
      "File \u001b[0;32m/usr/lib/python3.10/copy.py:84\u001b[0m, in \u001b[0;36mcopy\u001b[0;34m(x)\u001b[0m\n\u001b[1;32m     82\u001b[0m copier \u001b[38;5;241m=\u001b[39m \u001b[38;5;28mgetattr\u001b[39m(\u001b[38;5;28mcls\u001b[39m, \u001b[38;5;124m\"\u001b[39m\u001b[38;5;124m__copy__\u001b[39m\u001b[38;5;124m\"\u001b[39m, \u001b[38;5;28;01mNone\u001b[39;00m)\n\u001b[1;32m     83\u001b[0m \u001b[38;5;28;01mif\u001b[39;00m copier \u001b[38;5;129;01mis\u001b[39;00m \u001b[38;5;129;01mnot\u001b[39;00m \u001b[38;5;28;01mNone\u001b[39;00m:\n\u001b[0;32m---> 84\u001b[0m     \u001b[38;5;28;01mreturn\u001b[39;00m \u001b[43mcopier\u001b[49m\u001b[43m(\u001b[49m\u001b[43mx\u001b[49m\u001b[43m)\u001b[49m\n\u001b[1;32m     86\u001b[0m reductor \u001b[38;5;241m=\u001b[39m dispatch_table\u001b[38;5;241m.\u001b[39mget(\u001b[38;5;28mcls\u001b[39m)\n\u001b[1;32m     87\u001b[0m \u001b[38;5;28;01mif\u001b[39;00m reductor \u001b[38;5;129;01mis\u001b[39;00m \u001b[38;5;129;01mnot\u001b[39;00m \u001b[38;5;28;01mNone\u001b[39;00m:\n",
      "File \u001b[0;32m~/programs/ngsolve/ngspy/lib/python3.10/site-packages/ipywidgets/widgets/widget.py:509\u001b[0m, in \u001b[0;36mWidget.__copy__\u001b[0;34m(self)\u001b[0m\n\u001b[1;32m    508\u001b[0m \u001b[38;5;28;01mdef\u001b[39;00m \u001b[38;5;21m__copy__\u001b[39m(\u001b[38;5;28mself\u001b[39m):\n\u001b[0;32m--> 509\u001b[0m     \u001b[38;5;28;01mraise\u001b[39;00m \u001b[38;5;167;01mNotImplementedError\u001b[39;00m(\u001b[38;5;124m\"\u001b[39m\u001b[38;5;124mWidgets cannot be copied; custom implementation required\u001b[39m\u001b[38;5;124m\"\u001b[39m)\n",
      "\u001b[0;31mNotImplementedError\u001b[0m: Widgets cannot be copied; custom implementation required"
     ]
    }
   ],
   "source": [
    "\n",
    "\n",
    "#location = \"data/cooling/2perc\"\n",
    "for location in listdir(\"data/cooling\"):\n",
    "    print(location)\n",
    "\n",
    "    dfs = []\n",
    "\n",
    "    for file in listdir(\"data/cooling/\"+location):\n",
    "        df = pd.read_csv(\"data/cooling/\"+location + \"/\" + file, sep='\\t', header=None, names=[ 'Temperature', 'Heat Flux']) \n",
    "        df = df.groupby('Temperature').mean().reset_index()\n",
    "        dfs.append(df)\n",
    "\n",
    "\n",
    "    interact(interactive_plot, dfs=fixed(dfs), cut=cut , filter = filer , lam = lam , p = p , niter = niter)\n"
   ]
  },
  {
   "cell_type": "code",
   "execution_count": 4,
   "metadata": {},
   "outputs": [
    {
     "data": {
      "application/vnd.jupyter.widget-view+json": {
       "model_id": "aef9ac53be3841a4b3d3e9fe1b0eddf8",
       "version_major": 2,
       "version_minor": 0
      },
      "text/plain": [
       "interactive(children=(FloatRangeSlider(value=(25.0, 85.0), continuous_update=False, description='Range of Temp…"
      ]
     },
     "metadata": {},
     "output_type": "display_data"
    },
    {
     "data": {
      "text/plain": [
       "<function __main__.timer.<locals>.wrapper(*args, **kwargs)>"
      ]
     },
     "execution_count": 4,
     "metadata": {},
     "output_type": "execute_result"
    }
   ],
   "source": [
    "location = \"data/cooling/4perc\"\n",
    "\n",
    "dfs = []\n",
    "\n",
    "for file in listdir(location):\n",
    "    df = pd.read_csv(location + \"/\" + file, sep='\\t',\n",
    "                     header=None, names=['Temperature', 'Heat Flux'])\n",
    "    df = df.groupby('Temperature').mean().reset_index()\n",
    "    dfs.append(df)\n",
    "\n",
    "\n",
    "interact(interactive_plot, dfs=fixed(dfs), cut=cut,\n",
    "             filter=filer, lam=lam, p=p, niter=niter)\n",
    "\n"
   ]
  },
  {
   "cell_type": "code",
   "execution_count": 5,
   "metadata": {},
   "outputs": [
    {
     "data": {
      "application/vnd.jupyter.widget-view+json": {
       "model_id": "4a017a51f6044a80857c28c63d1e4ca2",
       "version_major": 2,
       "version_minor": 0
      },
      "text/plain": [
       "interactive(children=(FloatRangeSlider(value=(25.0, 85.0), continuous_update=False, description='Range of Temp…"
      ]
     },
     "metadata": {},
     "output_type": "display_data"
    },
    {
     "data": {
      "text/plain": [
       "<function __main__.timer.<locals>.wrapper(*args, **kwargs)>"
      ]
     },
     "execution_count": 5,
     "metadata": {},
     "output_type": "execute_result"
    }
   ],
   "source": [
    "location = \"data/cooling/6perc\"\n",
    "\n",
    "dfs = []\n",
    "\n",
    "for file in listdir(location):\n",
    "    df = pd.read_csv(location + \"/\" + file, sep='\\t',\n",
    "                     header=None, names=['Temperature', 'Heat Flux'])\n",
    "    df = df.groupby('Temperature').mean().reset_index()\n",
    "    dfs.append(df)\n",
    "\n",
    "\n",
    "interact(interactive_plot, dfs=fixed(dfs), cut=cut,\n",
    "             filter=filer, lam=lam, p=p, niter=niter)\n"
   ]
  },
  {
   "cell_type": "code",
   "execution_count": 6,
   "metadata": {},
   "outputs": [
    {
     "data": {
      "application/vnd.jupyter.widget-view+json": {
       "model_id": "ca09ca83fc594b9883ec8a459336d508",
       "version_major": 2,
       "version_minor": 0
      },
      "text/plain": [
       "interactive(children=(FloatRangeSlider(value=(25.0, 85.0), continuous_update=False, description='Range of Temp…"
      ]
     },
     "metadata": {},
     "output_type": "display_data"
    },
    {
     "data": {
      "text/plain": [
       "<function __main__.timer.<locals>.wrapper(*args, **kwargs)>"
      ]
     },
     "execution_count": 6,
     "metadata": {},
     "output_type": "execute_result"
    }
   ],
   "source": [
    "location = \"data/cooling/8perc\"\n",
    "\n",
    "dfs = []\n",
    "\n",
    "for file in listdir(location):\n",
    "    df = pd.read_csv(location + \"/\" + file, sep='\\t',\n",
    "                     header=None, names=['Temperature', 'Heat Flux'])\n",
    "    df = df.groupby('Temperature').mean().reset_index()\n",
    "    dfs.append(df)\n",
    "\n",
    "\n",
    "interact(interactive_plot, dfs=fixed(dfs), cut=cut,\n",
    "             filter=filer, lam=lam, p=p, niter=niter)\n"
   ]
  }
 ],
 "metadata": {
  "kernelspec": {
   "display_name": "ngspy",
   "language": "python",
   "name": "python3"
  },
  "language_info": {
   "codemirror_mode": {
    "name": "ipython",
    "version": 3
   },
   "file_extension": ".py",
   "mimetype": "text/x-python",
   "name": "python",
   "nbconvert_exporter": "python",
   "pygments_lexer": "ipython3",
   "version": "3.10.12"
  }
 },
 "nbformat": 4,
 "nbformat_minor": 2
}
